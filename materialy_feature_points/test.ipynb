{
 "cells": [
  {
   "cell_type": "code",
   "execution_count": 1,
   "metadata": {},
   "outputs": [
    {
     "name": "stderr",
     "output_type": "stream",
     "text": [
      "[ WARN:0@0.305] global loadsave.cpp:248 findDecoder imread_('materialy_feature_points/FeatureDetection_Input_copy.bmp'): can't open/read file: check file path/integrity\n"
     ]
    },
    {
     "ename": "error",
     "evalue": "OpenCV(4.9.0) /io/opencv/modules/imgproc/src/color.cpp:196: error: (-215:Assertion failed) !_src.empty() in function 'cvtColor'\n",
     "output_type": "error",
     "traceback": [
      "\u001b[0;31m---------------------------------------------------------------------------\u001b[0m",
      "\u001b[0;31merror\u001b[0m                                     Traceback (most recent call last)",
      "Cell \u001b[0;32mIn[1], line 13\u001b[0m\n\u001b[1;32m     10\u001b[0m f1_original  \u001b[38;5;241m=\u001b[39m cv2\u001b[38;5;241m.\u001b[39mimread(\u001b[38;5;124m\"\u001b[39m\u001b[38;5;124mmaterialy_feature_points/FeatureDetection_Input_copy.bmp\u001b[39m\u001b[38;5;124m\"\u001b[39m)\n\u001b[1;32m     12\u001b[0m \u001b[38;5;66;03m# f2_original  = cv2.imread(\"fontanna2.jpg\")\u001b[39;00m\n\u001b[0;32m---> 13\u001b[0m f1 \u001b[38;5;241m=\u001b[39m \u001b[43mcv2\u001b[49m\u001b[38;5;241;43m.\u001b[39;49m\u001b[43mcvtColor\u001b[49m\u001b[43m(\u001b[49m\u001b[43mf1_original\u001b[49m\u001b[43m,\u001b[49m\u001b[43m \u001b[49m\u001b[43mcv2\u001b[49m\u001b[38;5;241;43m.\u001b[39;49m\u001b[43mCOLOR_BGR2GRAY\u001b[49m\u001b[43m)\u001b[49m\n\u001b[1;32m     14\u001b[0m \u001b[38;5;66;03m# f2 = cv2.cvtColor(f2_original, cv2.COLOR_BGR2GRAY)\u001b[39;00m\n\u001b[1;32m     15\u001b[0m \n\u001b[1;32m     16\u001b[0m \u001b[38;5;66;03m# cv2.imshow(\"F1\", f1)\u001b[39;00m\n\u001b[1;32m     17\u001b[0m \u001b[38;5;66;03m# cv2.imshow(\"F2\", f2)\u001b[39;00m\n\u001b[1;32m     18\u001b[0m \u001b[38;5;66;03m# cv2.waitKey(0)\u001b[39;00m\n\u001b[1;32m     19\u001b[0m \u001b[38;5;66;03m# cv2.destroyAllWindows()\u001b[39;00m\n\u001b[1;32m     21\u001b[0m \u001b[38;5;28;01mdef\u001b[39;00m \u001b[38;5;21mharris\u001b[39m(I_GR, size_sobel, size_gauss):\n",
      "\u001b[0;31merror\u001b[0m: OpenCV(4.9.0) /io/opencv/modules/imgproc/src/color.cpp:196: error: (-215:Assertion failed) !_src.empty() in function 'cvtColor'\n"
     ]
    }
   ],
   "source": [
    "import cv2\n",
    "import numpy as np\n",
    "import matplotlib.pyplot as plt\n",
    "\n",
    "import scipy.ndimage.filters as filters\n",
    "\n",
    "# wczytanie obrazów\n",
    "# I  = cv2.imread(\"I.jpg\")\n",
    "# J  = cv2.imread(\"J.jpg\")\n",
    "f1_original  = cv2.imread(\"materialy_feature_points/FeatureDetection_Input_copy.bmp\")\n",
    "\n",
    "# f2_original  = cv2.imread(\"fontanna2.jpg\")\n",
    "f1 = cv2.cvtColor(f1_original, cv2.COLOR_BGR2GRAY)\n",
    "# f2 = cv2.cvtColor(f2_original, cv2.COLOR_BGR2GRAY)\n",
    "\n",
    "# cv2.imshow(\"F1\", f1)\n",
    "# cv2.imshow(\"F2\", f2)\n",
    "# cv2.waitKey(0)\n",
    "# cv2.destroyAllWindows()\n",
    "\n",
    "def harris(I_GR, size_sobel, size_gauss):\n",
    "    sobelx = cv2.Sobel(I_GR, cv2.CV_32F, 1, 0, ksize=size_sobel)\n",
    "    sobely = cv2.Sobel(I_GR, cv2.CV_32F, 0, 1, ksize=size_sobel)\n",
    "    x2 = sobelx * sobelx\n",
    "    y2 = sobely * sobely\n",
    "    xy = sobelx * sobely\n",
    "    gauss_x2 = cv2.GaussianBlur(x2, (size_gauss, size_gauss), 0)\n",
    "    gauss_y2 = cv2.GaussianBlur(y2, (size_gauss, size_gauss), 0)\n",
    "    gauss_xy = cv2.GaussianBlur(xy, (size_gauss, size_gauss), 0)\n",
    "    \n",
    "    det = gauss_x2*gauss_y2 - gauss_xy*gauss_xy\n",
    "    trace = gauss_x2 + gauss_y2\n",
    "    \n",
    "    H = det - 0.05*(trace*trace)\n",
    "    H = cv2.normalize(H, None, alpha=0, beta=1, norm_type=cv2.NORM_MINMAX, dtype=cv2.CV_32F)\n",
    "    return H\n",
    "\n",
    "def find_max (image, size, threshold) : # size - maximum filter mask size\n",
    "    data_max = filters.maximum_filter(image, size)\n",
    "    maxima = (image == data_max)\n",
    "    diff = image > threshold\n",
    "    maxima [diff == 0] = 0\n",
    "    return np.nonzero(maxima)\n",
    "\n",
    "def plot_im(max1, image1):\n",
    "    pt_y, pt_x = max1\n",
    "    arr_points = np.concatenate([pt_y[:,None], pt_x[:,None]], axis=1)\n",
    "    for point in arr_points:\n",
    "        print(point)\n",
    "        cv2.drawMarker(image1, (point[1], point[0]), (0,0,255), markerType=cv2.MARKER_CROSS, \n",
    "        markerSize=40, thickness=2, line_type=cv2.LINE_AA)\n",
    "        # image1[point[0], point[1]] = (0,0,255)\n",
    "    \n",
    "\n",
    "    cv2.imshow(\"feature points\", image1)\n",
    "    cv2.waitKey()\n",
    "    cv2.destroyAllWindows()\n",
    "\n",
    "    return image1\n",
    "\n",
    "    # plt.figure(figsize=(12, 6))\n",
    "    # plt.imshow(cv2.cvtColor(image1, cv2.COLOR_BGR2RGB))\n",
    "    # plt.plot(max1[1], max1[0], '*', color='m')\n",
    "    # plt.title('Obraz 1')\n",
    "\n",
    "# 1\n",
    "# h1 = harris(f1, 7, 7)\n",
    "# max1 = find_max(h1, 7, 0.55)\n",
    "# new_img = plot_im(max1, f1_original)\n",
    "# cv2.imwrite(\"harris7_7.tif\", new_img)\n",
    "\n",
    "# 2\n",
    "# h1 = harris(f1, 7, 7)\n",
    "# max1 = find_max(h1, 7, 0.77)\n",
    "# new_img = plot_im(max1, f1_original)\n",
    "# cv2.imwrite(\"harris7_7_2.tif\", new_img)\n",
    "\n",
    "# 3\n",
    "h1 = harris(f1, 13,13)\n",
    "max1 = find_max(h1, 13, 0.82)\n",
    "new_img = plot_im(max1, f1_original)\n",
    "cv2.imwrite(\"harris7_7_3.tif\", new_img)\n"
   ]
  }
 ],
 "metadata": {
  "kernelspec": {
   "display_name": "Python 3",
   "language": "python",
   "name": "python3"
  },
  "language_info": {
   "codemirror_mode": {
    "name": "ipython",
    "version": 3
   },
   "file_extension": ".py",
   "mimetype": "text/x-python",
   "name": "python",
   "nbconvert_exporter": "python",
   "pygments_lexer": "ipython3",
   "version": "3.10.12"
  }
 },
 "nbformat": 4,
 "nbformat_minor": 2
}
